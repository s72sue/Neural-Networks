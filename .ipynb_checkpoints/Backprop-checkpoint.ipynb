{
 "metadata": {
  "name": "",
  "signature": "sha256:e34aaccfcf248b0620e44bb40a9a25688e4373ea009ed3627df35fa0af3fd9ea"
 },
 "nbformat": 3,
 "nbformat_minor": 0,
 "worksheets": []
}