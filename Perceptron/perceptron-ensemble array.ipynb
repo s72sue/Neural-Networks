{
 "metadata": {
  "name": "",
  "signature": "sha256:52f6e1def180ed79613b26ddadafec943ba998166761e9ed06a7bab08eaa43d4"
 },
 "nbformat": 3,
 "nbformat_minor": 0,
 "worksheets": [
  {
   "cells": [
    {
     "cell_type": "code",
     "collapsed": false,
     "input": [
      "%pylab inline\n",
      "import nengo\n",
      "from nengo.dists import Uniform\n",
      "from nengo.utils.ensemble import response_curves\n",
      "import numpy as np\n",
      "\n",
      "\n",
      "# ---------------------------------------------------------------------------------------------------------------------\n",
      "\n",
      "def generateData(n):\n",
      "    \"\"\" \n",
      "    generates a 2D linearly separable dataset with n samples. \n",
      "    The third element of the sample is the label\n",
      "    \"\"\"\n",
      "    choice = numpy.random.random_integers(1,3)\n",
      "    \n",
      "    if choice == 1:\n",
      "        xb = (np.random.rand(n)*2-1)/2-0.5\n",
      "        yb = (np.random.rand(n)*2-1)/2+0.5\n",
      "        xr = (np.random.rand(n)*2-1)/2+0.5\n",
      "        yr = (np.random.rand(n)*2-1)/2-0.5\n",
      "    elif choice == 2:\n",
      "        xb = (np.random.rand(n)*2-1)/2+0.5\n",
      "        yb = (np.random.rand(n)*2-1)/2+0.5\n",
      "        xr = (np.random.rand(n)*2-1)/2-0.5\n",
      "        yr = (np.random.rand(n)*2-1)/2-0.5\n",
      "    else:\n",
      "        xb = (np.random.rand(n)*2-1)/2+0.5\n",
      "        yb = (np.random.rand(n)*2-1)/2+0.5\n",
      "        xr = (np.random.rand(n)*2-1)/2-0.5\n",
      "        yr = (np.random.rand(n)*2-1)/2+0.5\n",
      "    \n",
      "    inputs = []\n",
      "    for i in range(len(xb)):\n",
      "        inputs.append([xb[i],yb[i],[0,1]])\n",
      "        inputs.append([xr[i],yr[i],[1,0]])   \n",
      "    return inputs, choice\n",
      "\n",
      "\n",
      "# ---------------------------------------------------------------------------------------------------------------------\n",
      "\n",
      "N = 100 #number of neurons\n",
      "D = 2\n",
      "samples = 150\n",
      "num_classes = 2\n",
      "pt = 1  # presentation time for each sample\n",
      "sim_time = samples\n",
      "model = nengo.Network('Perceptron')\n",
      "\n",
      "data, choice = generateData(samples)\n",
      "\n",
      "for x in data:\n",
      "    if x[2] == 1:\n",
      "        plot(x[0], x[1], 'ob')\n",
      "    else:\n",
      "        plot(x[0], x[1], 'or') \n",
      "ylim(-1.2,1.2)         "
     ],
     "language": "python",
     "metadata": {},
     "outputs": [
      {
       "output_type": "stream",
       "stream": "stdout",
       "text": [
        "Populating the interactive namespace from numpy and matplotlib\n"
       ]
      },
      {
       "javascript": [
        "\n",
        "        require([\"widgets/js/widget\", \"widgets/js/manager\"],\n",
        "            function(widget, manager) {\n",
        "          if (typeof widget.DOMWidgetView == 'undefined') {\n",
        "            widget = IPython;\n",
        "          }\n",
        "          if (typeof manager.WidgetManager == 'undefined') {\n",
        "            manager = IPython;\n",
        "          }\n",
        "\n",
        "          var NengoProgressBar = widget.DOMWidgetView.extend({\n",
        "            render: function() {\n",
        "              // $el is the DOM of the widget\n",
        "              this.$el.css({width: '100%', marginBottom: '0.5em'});\n",
        "              this.$el.html([\n",
        "                '<div style=\"',\n",
        "                    'width: 100%;',\n",
        "                    'border: 1px solid #cfcfcf;',\n",
        "                    'border-radius: 4px;',\n",
        "                    'text-align: center;',\n",
        "                    'position: relative;\">',\n",
        "                  '<div class=\"pb-text\" style=\"',\n",
        "                      'position: absolute;',\n",
        "                      'width: 100%;\">',\n",
        "                    '0%',\n",
        "                  '</div>',\n",
        "                  '<div class=\"pb-bar\" style=\"',\n",
        "                      'background-color: #bdd2e6;',\n",
        "                      'width: 0%;',\n",
        "                      'transition: width 0.1s linear;\">',\n",
        "                    '&nbsp;',\n",
        "                  '</div>',\n",
        "                '</div>'].join(''));\n",
        "            },\n",
        "\n",
        "            update: function() {\n",
        "              this.$el.css({width: '100%', marginBottom: '0.5em'});\n",
        "              var progress = 100 * this.model.get('progress');\n",
        "              var text = this.model.get('text');\n",
        "              this.$el.find('div.pb-bar').width(progress.toString() + '%');\n",
        "              this.$el.find('div.pb-text').text(text);\n",
        "            },\n",
        "          });\n",
        "\n",
        "          manager.WidgetManager.register_widget_view(\n",
        "            'NengoProgressBar', NengoProgressBar);\n",
        "        });"
       ],
       "metadata": {},
       "output_type": "display_data",
       "text": [
        "<IPython.core.display.Javascript at 0x7fa177f1f690>"
       ]
      },
      {
       "metadata": {},
       "output_type": "pyout",
       "prompt_number": 1,
       "text": [
        "(-1.2, 1.2)"
       ]
      },
      {
       "metadata": {},
       "output_type": "display_data",
       "png": "[encoded data removed]",
       "text": [
        "<matplotlib.figure.Figure at 0x7fa177f3c590>"
       ]
      }
     ],
     "prompt_number": 1
    },
    {
     "cell_type": "code",
     "collapsed": false,
     "input": [
      "weights = np.random.randn(1,D)    \n",
      "print \"wegiths:\", weights\n",
      "\n",
      "#Points on decision boundary\n",
      "#ww1 = [weights[0][1],-weights[0][0]]\n",
      "#ww2 = [-weights[0][1],weights[0][0]]\n",
      "ww1 = [1, -weights[0][0]/weights[0][1]]\n",
      "ww2 = [-1, weights[0][0]/weights[0][1]]\n",
      "\n",
      "figure()\n",
      "plot([ww1[0], ww2[0]],[ww1[1], ww2[1]],'--k')\n",
      "for element in data:\n",
      "    if element[2] == 1:\n",
      "        plot(element[0],element[1],'ob')  \n",
      "    else:\n",
      "        plot(element[0],element[1],'or')        \n",
      "show()\n",
      "\n",
      "\n",
      "with model:  \n",
      "    \n",
      "    def stim(t):\n",
      "        for i in range(samples):\n",
      "            if int(t) % samples <= i:\n",
      "                #print \"[data[i][0], data[i][1]]\", i , t\n",
      "                return [data[i][0], data[i][1]]\n",
      "        return 0\n",
      "    \n",
      "        \n",
      "    def stim_ans(t):\n",
      "        for i in range(samples):\n",
      "            if int(t) % samples <= i:\n",
      "                #print \"data[i][2]\", i , t\n",
      "                return data[i][2]\n",
      "        return 0     \n",
      "    \n",
      "    \n",
      "    stim = nengo.Node(output=stim, size_out=D)\n",
      "    stim_ans = nengo.Node(output=stim_ans, size_out=num_classes)\n",
      "    \n",
      "    \n",
      "    #input = nengo.Ensemble(N, dimensions=D)  \n",
      "    input = nengo.networks.EnsembleArray(N*D, n_ensembles=D) \n",
      "    answer = nengo.Ensemble(N*num_classes, dimensions=num_classes) \n",
      "    error = nengo.Ensemble(N*num_classes, dimensions=num_classes)  \n",
      "    correct_answer = nengo.Ensemble(N*num_classes, dimensions=num_classes)\n",
      "    \n",
      "    \n",
      "    nengo.Connection(stim, input) \n",
      "    nengo.Connection(stim_ans, correct_answer)\n",
      "    \n",
      "    nengo.Connection(answer, error, transform=-1)\n",
      "    nengo.Connection(correct_answer, error)\n",
      "    error_conn = nengo.Connection(error, answer, modulatory=True)\n",
      "    \n",
      "    passthru = nengo.Ensemble(N, D)\n",
      "    nengo.Connection(input.output, passthru)\n",
      "    \n",
      "    conn = nengo.Connection(passthru, answer, transform=weights, solver=nengo.solvers.LstsqL2(weights=True))  \n",
      "    conn.learning_rule_type = nengo.PES(error_conn, learning_rate=1e-6)\n",
      "    \n",
      "    def inhibit(t):\n",
      "        return 2.0 if t > int(2*samples/3) else 0.0\n",
      "\n",
      "    inhib = nengo.Node(inhibit)\n",
      "    nengo.Connection(inhib, error.neurons, transform=[[-1]] * error.n_neurons)\n",
      "    \n",
      "    output = nengo.Ensemble(N, dimensions=1,  \n",
      "                     max_rates=Uniform(.999,.999),\n",
      "                     intercepts=Uniform(-1,-1),\n",
      "                     neuron_type=nengo.neurons.Sigmoid(tau_ref=1))\n",
      "\n",
      "    \n",
      "    nengo.Connection(answer, output)\n",
      "    \n",
      "    actual_error = nengo.Ensemble(N, dimensions=1) \n",
      "    output_error = nengo.Ensemble(N, dimensions=1) \n",
      "    \n",
      "    #Actual Error\n",
      "    nengo.Connection(answer, actual_error, transform=-1)\n",
      "    nengo.Connection(correct_answer, actual_error)\n",
      "    \n",
      "    #Output Error\n",
      "    nengo.Connection(output, output_error, transform=-1)\n",
      "    nengo.Connection(correct_answer, output_error)"
     ],
     "language": "python",
     "metadata": {},
     "outputs": [
      {
       "output_type": "stream",
       "stream": "stdout",
       "text": [
        "wegiths: [[ 2.1903058   0.14762555]]\n"
       ]
      },
      {
       "metadata": {},
       "output_type": "display_data",
       "png": "[encoded data removed]",
       "text": [
        "<matplotlib.figure.Figure at 0x7fa177bb1f10>"
       ]
      },
      {
       "ename": "ValueError",
       "evalue": "Validation error when setting 'Connection.transform': shape[0] should be 2 (got 1)",
       "output_type": "pyerr",
       "traceback": [
        "\u001b[1;31m---------------------------------------------------------------------------\u001b[0m\n\u001b[1;31mValueError\u001b[0m                                Traceback (most recent call last)",
        "\u001b[1;32m<ipython-input-4-f70e58f35b50>\u001b[0m in \u001b[0;36m<module>\u001b[1;34m()\u001b[0m\n\u001b[0;32m     54\u001b[0m     \u001b[0merror_conn\u001b[0m \u001b[1;33m=\u001b[0m \u001b[0mnengo\u001b[0m\u001b[1;33m.\u001b[0m\u001b[0mConnection\u001b[0m\u001b[1;33m(\u001b[0m\u001b[0merror\u001b[0m\u001b[1;33m,\u001b[0m \u001b[0manswer\u001b[0m\u001b[1;33m,\u001b[0m \u001b[0mmodulatory\u001b[0m\u001b[1;33m=\u001b[0m\u001b[0mTrue\u001b[0m\u001b[1;33m)\u001b[0m\u001b[1;33m\u001b[0m\u001b[0m\n\u001b[0;32m     55\u001b[0m \u001b[1;33m\u001b[0m\u001b[0m\n\u001b[1;32m---> 56\u001b[1;33m     \u001b[0mconn\u001b[0m \u001b[1;33m=\u001b[0m \u001b[0mnengo\u001b[0m\u001b[1;33m.\u001b[0m\u001b[0mConnection\u001b[0m\u001b[1;33m(\u001b[0m\u001b[0minput\u001b[0m\u001b[1;33m,\u001b[0m \u001b[0manswer\u001b[0m\u001b[1;33m,\u001b[0m \u001b[0mtransform\u001b[0m\u001b[1;33m=\u001b[0m\u001b[0mweights\u001b[0m\u001b[1;33m,\u001b[0m \u001b[0msolver\u001b[0m\u001b[1;33m=\u001b[0m\u001b[0mnengo\u001b[0m\u001b[1;33m.\u001b[0m\u001b[0msolvers\u001b[0m\u001b[1;33m.\u001b[0m\u001b[0mLstsqL2\u001b[0m\u001b[1;33m(\u001b[0m\u001b[0mweights\u001b[0m\u001b[1;33m=\u001b[0m\u001b[0mTrue\u001b[0m\u001b[1;33m)\u001b[0m\u001b[1;33m)\u001b[0m\u001b[1;33m\u001b[0m\u001b[0m\n\u001b[0m\u001b[0;32m     57\u001b[0m     \u001b[0mconn\u001b[0m\u001b[1;33m.\u001b[0m\u001b[0mlearning_rule_type\u001b[0m \u001b[1;33m=\u001b[0m \u001b[0mnengo\u001b[0m\u001b[1;33m.\u001b[0m\u001b[0mPES\u001b[0m\u001b[1;33m(\u001b[0m\u001b[0merror_conn\u001b[0m\u001b[1;33m,\u001b[0m \u001b[0mlearning_rate\u001b[0m\u001b[1;33m=\u001b[0m\u001b[1;36m1e-6\u001b[0m\u001b[1;33m)\u001b[0m\u001b[1;33m\u001b[0m\u001b[0m\n\u001b[0;32m     58\u001b[0m \u001b[1;33m\u001b[0m\u001b[0m\n",
        "\u001b[1;32m/home/ctnuser/git/nengo/nengo/base.py\u001b[0m in \u001b[0;36m__call__\u001b[1;34m(cls, *args, **kwargs)\u001b[0m\n\u001b[0;32m     22\u001b[0m         \u001b[0madd_to_container\u001b[0m \u001b[1;33m=\u001b[0m \u001b[0mkwargs\u001b[0m\u001b[1;33m.\u001b[0m\u001b[0mpop\u001b[0m\u001b[1;33m(\u001b[0m\u001b[1;34m'add_to_container'\u001b[0m\u001b[1;33m,\u001b[0m \u001b[0mTrue\u001b[0m\u001b[1;33m)\u001b[0m\u001b[1;33m\u001b[0m\u001b[0m\n\u001b[0;32m     23\u001b[0m         \u001b[1;31m# Do the __init__ before adding in case __init__ errors out\u001b[0m\u001b[1;33m\u001b[0m\u001b[1;33m\u001b[0m\u001b[0m\n\u001b[1;32m---> 24\u001b[1;33m         \u001b[0minst\u001b[0m\u001b[1;33m.\u001b[0m\u001b[0m__init__\u001b[0m\u001b[1;33m(\u001b[0m\u001b[1;33m*\u001b[0m\u001b[0margs\u001b[0m\u001b[1;33m,\u001b[0m \u001b[1;33m**\u001b[0m\u001b[0mkwargs\u001b[0m\u001b[1;33m)\u001b[0m\u001b[1;33m\u001b[0m\u001b[0m\n\u001b[0m\u001b[0;32m     25\u001b[0m         \u001b[1;32mif\u001b[0m \u001b[0madd_to_container\u001b[0m\u001b[1;33m:\u001b[0m\u001b[1;33m\u001b[0m\u001b[0m\n\u001b[0;32m     26\u001b[0m             \u001b[0mNetwork\u001b[0m\u001b[1;33m.\u001b[0m\u001b[0madd\u001b[0m\u001b[1;33m(\u001b[0m\u001b[0minst\u001b[0m\u001b[1;33m)\u001b[0m\u001b[1;33m\u001b[0m\u001b[0m\n",
        "\u001b[1;32m/home/ctnuser/git/nengo/nengo/connection.py\u001b[0m in \u001b[0;36m__init__\u001b[1;34m(self, pre, post, synapse, transform, solver, learning_rule_type, function, modulatory, eval_points, scale_eval_points, seed)\u001b[0m\n\u001b[0;32m    243\u001b[0m         \u001b[0mself\u001b[0m\u001b[1;33m.\u001b[0m\u001b[0mmodulatory\u001b[0m \u001b[1;33m=\u001b[0m \u001b[0mmodulatory\u001b[0m\u001b[1;33m\u001b[0m\u001b[0m\n\u001b[0;32m    244\u001b[0m         \u001b[0mself\u001b[0m\u001b[1;33m.\u001b[0m\u001b[0msynapse\u001b[0m \u001b[1;33m=\u001b[0m \u001b[0msynapse\u001b[0m\u001b[1;33m\u001b[0m\u001b[0m\n\u001b[1;32m--> 245\u001b[1;33m         \u001b[0mself\u001b[0m\u001b[1;33m.\u001b[0m\u001b[0mtransform\u001b[0m \u001b[1;33m=\u001b[0m \u001b[0mtransform\u001b[0m\u001b[1;33m\u001b[0m\u001b[0m\n\u001b[0m\u001b[0;32m    246\u001b[0m         \u001b[0mself\u001b[0m\u001b[1;33m.\u001b[0m\u001b[0mscale_eval_points\u001b[0m \u001b[1;33m=\u001b[0m \u001b[0mscale_eval_points\u001b[0m\u001b[1;33m\u001b[0m\u001b[0m\n\u001b[0;32m    247\u001b[0m         \u001b[0mself\u001b[0m\u001b[1;33m.\u001b[0m\u001b[0meval_points\u001b[0m \u001b[1;33m=\u001b[0m \u001b[0meval_points\u001b[0m  \u001b[1;31m# Must be set before function\u001b[0m\u001b[1;33m\u001b[0m\u001b[0m\n",
        "\u001b[1;32m/home/ctnuser/git/nengo/nengo/base.py\u001b[0m in \u001b[0;36m__setattr__\u001b[1;34m(self, name, val)\u001b[0m\n\u001b[0;32m     61\u001b[0m             \u001b[0mval\u001b[0m \u001b[1;33m=\u001b[0m \u001b[0mConfig\u001b[0m\u001b[1;33m.\u001b[0m\u001b[0mdefault\u001b[0m\u001b[1;33m(\u001b[0m\u001b[0mtype\u001b[0m\u001b[1;33m(\u001b[0m\u001b[0mself\u001b[0m\u001b[1;33m)\u001b[0m\u001b[1;33m,\u001b[0m \u001b[0mname\u001b[0m\u001b[1;33m)\u001b[0m\u001b[1;33m\u001b[0m\u001b[0m\n\u001b[0;32m     62\u001b[0m         \u001b[1;32mtry\u001b[0m\u001b[1;33m:\u001b[0m\u001b[1;33m\u001b[0m\u001b[0m\n\u001b[1;32m---> 63\u001b[1;33m             \u001b[0msuper\u001b[0m\u001b[1;33m(\u001b[0m\u001b[0mNengoObject\u001b[0m\u001b[1;33m,\u001b[0m \u001b[0mself\u001b[0m\u001b[1;33m)\u001b[0m\u001b[1;33m.\u001b[0m\u001b[0m__setattr__\u001b[0m\u001b[1;33m(\u001b[0m\u001b[0mname\u001b[0m\u001b[1;33m,\u001b[0m \u001b[0mval\u001b[0m\u001b[1;33m)\u001b[0m\u001b[1;33m\u001b[0m\u001b[0m\n\u001b[0m\u001b[0;32m     64\u001b[0m         \u001b[1;32mexcept\u001b[0m \u001b[0mException\u001b[0m \u001b[1;32mas\u001b[0m \u001b[0me\u001b[0m\u001b[1;33m:\u001b[0m\u001b[1;33m\u001b[0m\u001b[0m\n\u001b[0;32m     65\u001b[0m             \u001b[0marg0\u001b[0m \u001b[1;33m=\u001b[0m \u001b[1;34m''\u001b[0m \u001b[1;32mif\u001b[0m \u001b[0mlen\u001b[0m\u001b[1;33m(\u001b[0m\u001b[0me\u001b[0m\u001b[1;33m.\u001b[0m\u001b[0margs\u001b[0m\u001b[1;33m)\u001b[0m \u001b[1;33m==\u001b[0m \u001b[1;36m0\u001b[0m \u001b[1;32melse\u001b[0m \u001b[0me\u001b[0m\u001b[1;33m.\u001b[0m\u001b[0margs\u001b[0m\u001b[1;33m[\u001b[0m\u001b[1;36m0\u001b[0m\u001b[1;33m]\u001b[0m\u001b[1;33m\u001b[0m\u001b[0m\n",
        "\u001b[1;32m/home/ctnuser/git/nengo/nengo/params.py\u001b[0m in \u001b[0;36m__set__\u001b[1;34m(self, instance, ndarray)\u001b[0m\n\u001b[0;32m    159\u001b[0m         \u001b[0msuper\u001b[0m\u001b[1;33m(\u001b[0m\u001b[0mNdarrayParam\u001b[0m\u001b[1;33m,\u001b[0m \u001b[0mself\u001b[0m\u001b[1;33m)\u001b[0m\u001b[1;33m.\u001b[0m\u001b[0mvalidate\u001b[0m\u001b[1;33m(\u001b[0m\u001b[0minstance\u001b[0m\u001b[1;33m,\u001b[0m \u001b[0mndarray\u001b[0m\u001b[1;33m)\u001b[0m\u001b[1;33m\u001b[0m\u001b[0m\n\u001b[0;32m    160\u001b[0m         \u001b[1;32mif\u001b[0m \u001b[0mndarray\u001b[0m \u001b[1;32mis\u001b[0m \u001b[1;32mnot\u001b[0m \u001b[0mNone\u001b[0m\u001b[1;33m:\u001b[0m\u001b[1;33m\u001b[0m\u001b[0m\n\u001b[1;32m--> 161\u001b[1;33m             \u001b[0mndarray\u001b[0m \u001b[1;33m=\u001b[0m \u001b[0mself\u001b[0m\u001b[1;33m.\u001b[0m\u001b[0mvalidate\u001b[0m\u001b[1;33m(\u001b[0m\u001b[0minstance\u001b[0m\u001b[1;33m,\u001b[0m \u001b[0mndarray\u001b[0m\u001b[1;33m)\u001b[0m\u001b[1;33m\u001b[0m\u001b[0m\n\u001b[0m\u001b[0;32m    162\u001b[0m         \u001b[0mself\u001b[0m\u001b[1;33m.\u001b[0m\u001b[0mdata\u001b[0m\u001b[1;33m[\u001b[0m\u001b[0minstance\u001b[0m\u001b[1;33m]\u001b[0m \u001b[1;33m=\u001b[0m \u001b[0mndarray\u001b[0m\u001b[1;33m\u001b[0m\u001b[0m\n\u001b[0;32m    163\u001b[0m \u001b[1;33m\u001b[0m\u001b[0m\n",
        "\u001b[1;32m/home/ctnuser/git/nengo/nengo/connection.py\u001b[0m in \u001b[0;36mvalidate\u001b[1;34m(self, conn, transform)\u001b[0m\n\u001b[0;32m    115\u001b[0m \u001b[1;33m\u001b[0m\u001b[0m\n\u001b[0;32m    116\u001b[0m         \u001b[1;31m# Checks the shapes\u001b[0m\u001b[1;33m\u001b[0m\u001b[1;33m\u001b[0m\u001b[0m\n\u001b[1;32m--> 117\u001b[1;33m         \u001b[0msuper\u001b[0m\u001b[1;33m(\u001b[0m\u001b[0mTransformParam\u001b[0m\u001b[1;33m,\u001b[0m \u001b[0mself\u001b[0m\u001b[1;33m)\u001b[0m\u001b[1;33m.\u001b[0m\u001b[0mvalidate\u001b[0m\u001b[1;33m(\u001b[0m\u001b[0mconn\u001b[0m\u001b[1;33m,\u001b[0m \u001b[0mtransform\u001b[0m\u001b[1;33m)\u001b[0m\u001b[1;33m\u001b[0m\u001b[0m\n\u001b[0m\u001b[0;32m    118\u001b[0m \u001b[1;33m\u001b[0m\u001b[0m\n\u001b[0;32m    119\u001b[0m         \u001b[1;32mif\u001b[0m \u001b[0mtransform\u001b[0m\u001b[1;33m.\u001b[0m\u001b[0mndim\u001b[0m \u001b[1;33m==\u001b[0m \u001b[1;36m2\u001b[0m\u001b[1;33m:\u001b[0m\u001b[1;33m\u001b[0m\u001b[0m\n",
        "\u001b[1;32m/home/ctnuser/git/nengo/nengo/params.py\u001b[0m in \u001b[0;36mvalidate\u001b[1;34m(self, instance, ndarray)\u001b[0m\n\u001b[0;32m    188\u001b[0m             \u001b[1;32mif\u001b[0m \u001b[0mndarray\u001b[0m\u001b[1;33m.\u001b[0m\u001b[0mshape\u001b[0m\u001b[1;33m[\u001b[0m\u001b[0mi\u001b[0m\u001b[1;33m]\u001b[0m \u001b[1;33m!=\u001b[0m \u001b[0mdesired\u001b[0m\u001b[1;33m:\u001b[0m\u001b[1;33m\u001b[0m\u001b[0m\n\u001b[0;32m    189\u001b[0m                 raise ValueError(\"shape[%d] should be %d (got %d)\"\n\u001b[1;32m--> 190\u001b[1;33m                                  % (i, desired, ndarray.shape[i]))\n\u001b[0m\u001b[0;32m    191\u001b[0m         \u001b[1;32mreturn\u001b[0m \u001b[0mndarray\u001b[0m\u001b[1;33m\u001b[0m\u001b[0m\n\u001b[0;32m    192\u001b[0m \u001b[1;33m\u001b[0m\u001b[0m\n",
        "\u001b[1;31mValueError\u001b[0m: Validation error when setting 'Connection.transform': shape[0] should be 2 (got 1)"
       ]
      }
     ],
     "prompt_number": 4
    },
    {
     "cell_type": "code",
     "collapsed": false,
     "input": [
      "with model: \n",
      "    #input1_p = nengo.Probe(input, synapse=0.1)\n",
      "    answer_p = nengo.Probe(answer, synapse=0.1)\n",
      "    correct_answer_p = nengo.Probe(correct_answer, synapse=0.1)\n",
      "    error_p = nengo.Probe(error, synapse=0.1)\n",
      "    output_p = nengo.Probe(output, synapse=0.1)\n",
      "    \n",
      "    conn_p = nengo.Probe(conn, attr='transform', synapse=None, sample_every=1.0)\n",
      "    conn_pd = nengo.Probe(conn, attr='decoders', synapse=None) #, sample_every=1.0)\n",
      "    \n",
      "    actual_error_p = nengo.Probe(actual_error, synapse=0.1)\n",
      "    output_error_p = nengo.Probe(output_error, synapse=0.1)"
     ],
     "language": "python",
     "metadata": {},
     "outputs": []
    },
    {
     "cell_type": "code",
     "collapsed": false,
     "input": [
      "sim = nengo.Simulator(model)\n",
      "sim.run(sim_time)\n",
      "t = sim.trange()"
     ],
     "language": "python",
     "metadata": {},
     "outputs": [
      {
       "ename": "ValueError",
       "evalue": "cannot copy sequence with size 2 to array axis with dimension 1",
       "output_type": "pyerr",
       "traceback": [
        "\u001b[1;31m---------------------------------------------------------------------------\u001b[0m\n\u001b[1;31mValueError\u001b[0m                                Traceback (most recent call last)",
        "\u001b[1;32m<ipython-input-7-6483922c5dd0>\u001b[0m in \u001b[0;36m<module>\u001b[1;34m()\u001b[0m\n\u001b[0;32m      1\u001b[0m \u001b[0msim\u001b[0m \u001b[1;33m=\u001b[0m \u001b[0mnengo\u001b[0m\u001b[1;33m.\u001b[0m\u001b[0mSimulator\u001b[0m\u001b[1;33m(\u001b[0m\u001b[0mmodel\u001b[0m\u001b[1;33m)\u001b[0m\u001b[1;33m\u001b[0m\u001b[0m\n\u001b[1;32m----> 2\u001b[1;33m \u001b[0msim\u001b[0m\u001b[1;33m.\u001b[0m\u001b[0mrun\u001b[0m\u001b[1;33m(\u001b[0m\u001b[0msim_time\u001b[0m\u001b[1;33m)\u001b[0m\u001b[1;33m\u001b[0m\u001b[0m\n\u001b[0m\u001b[0;32m      3\u001b[0m \u001b[0mt\u001b[0m \u001b[1;33m=\u001b[0m \u001b[0msim\u001b[0m\u001b[1;33m.\u001b[0m\u001b[0mtrange\u001b[0m\u001b[1;33m(\u001b[0m\u001b[1;33m)\u001b[0m\u001b[1;33m\u001b[0m\u001b[0m\n",
        "\u001b[1;32m/home/ctnuser/git/nengo/nengo/simulator.py\u001b[0m in \u001b[0;36mrun\u001b[1;34m(self, time_in_seconds, progress_bar)\u001b[0m\n\u001b[0;32m    208\u001b[0m         logger.debug(\"Running %s for %f seconds, or %d steps\",\n\u001b[0;32m    209\u001b[0m                      self.model.label, time_in_seconds, steps)\n\u001b[1;32m--> 210\u001b[1;33m         \u001b[0mself\u001b[0m\u001b[1;33m.\u001b[0m\u001b[0mrun_steps\u001b[0m\u001b[1;33m(\u001b[0m\u001b[0msteps\u001b[0m\u001b[1;33m,\u001b[0m \u001b[0mprogress_bar\u001b[0m\u001b[1;33m=\u001b[0m\u001b[0mprogress_bar\u001b[0m\u001b[1;33m)\u001b[0m\u001b[1;33m\u001b[0m\u001b[0m\n\u001b[0m\u001b[0;32m    211\u001b[0m \u001b[1;33m\u001b[0m\u001b[0m\n\u001b[0;32m    212\u001b[0m     \u001b[1;32mdef\u001b[0m \u001b[0mrun_steps\u001b[0m\u001b[1;33m(\u001b[0m\u001b[0mself\u001b[0m\u001b[1;33m,\u001b[0m \u001b[0msteps\u001b[0m\u001b[1;33m,\u001b[0m \u001b[0mprogress_bar\u001b[0m\u001b[1;33m=\u001b[0m\u001b[0mTrue\u001b[0m\u001b[1;33m)\u001b[0m\u001b[1;33m:\u001b[0m\u001b[1;33m\u001b[0m\u001b[0m\n",
        "\u001b[1;32m/home/ctnuser/git/nengo/nengo/simulator.py\u001b[0m in \u001b[0;36mrun_steps\u001b[1;34m(self, steps, progress_bar)\u001b[0m\n\u001b[0;32m    232\u001b[0m         \u001b[1;32mwith\u001b[0m \u001b[0mProgressTracker\u001b[0m\u001b[1;33m(\u001b[0m\u001b[0msteps\u001b[0m\u001b[1;33m,\u001b[0m \u001b[0mprogress_bar\u001b[0m\u001b[1;33m)\u001b[0m \u001b[1;32mas\u001b[0m \u001b[0mprogress\u001b[0m\u001b[1;33m:\u001b[0m\u001b[1;33m\u001b[0m\u001b[0m\n\u001b[0;32m    233\u001b[0m             \u001b[1;32mfor\u001b[0m \u001b[0mi\u001b[0m \u001b[1;32min\u001b[0m \u001b[0mrange\u001b[0m\u001b[1;33m(\u001b[0m\u001b[0msteps\u001b[0m\u001b[1;33m)\u001b[0m\u001b[1;33m:\u001b[0m\u001b[1;33m\u001b[0m\u001b[0m\n\u001b[1;32m--> 234\u001b[1;33m                 \u001b[0mself\u001b[0m\u001b[1;33m.\u001b[0m\u001b[0mstep\u001b[0m\u001b[1;33m(\u001b[0m\u001b[1;33m)\u001b[0m\u001b[1;33m\u001b[0m\u001b[0m\n\u001b[0m\u001b[0;32m    235\u001b[0m                 \u001b[0mprogress\u001b[0m\u001b[1;33m.\u001b[0m\u001b[0mstep\u001b[0m\u001b[1;33m(\u001b[0m\u001b[1;33m)\u001b[0m\u001b[1;33m\u001b[0m\u001b[0m\n\u001b[0;32m    236\u001b[0m \u001b[1;33m\u001b[0m\u001b[0m\n",
        "\u001b[1;32m/home/ctnuser/git/nengo/nengo/simulator.py\u001b[0m in \u001b[0;36mstep\u001b[1;34m(self)\u001b[0m\n\u001b[0;32m    179\u001b[0m         \u001b[1;32mtry\u001b[0m\u001b[1;33m:\u001b[0m\u001b[1;33m\u001b[0m\u001b[0m\n\u001b[0;32m    180\u001b[0m             \u001b[1;32mfor\u001b[0m \u001b[0mstep_fn\u001b[0m \u001b[1;32min\u001b[0m \u001b[0mself\u001b[0m\u001b[1;33m.\u001b[0m\u001b[0m_steps\u001b[0m\u001b[1;33m:\u001b[0m\u001b[1;33m\u001b[0m\u001b[0m\n\u001b[1;32m--> 181\u001b[1;33m                 \u001b[0mstep_fn\u001b[0m\u001b[1;33m(\u001b[0m\u001b[1;33m)\u001b[0m\u001b[1;33m\u001b[0m\u001b[0m\n\u001b[0m\u001b[0;32m    182\u001b[0m         \u001b[1;32mfinally\u001b[0m\u001b[1;33m:\u001b[0m\u001b[1;33m\u001b[0m\u001b[0m\n\u001b[0;32m    183\u001b[0m             \u001b[0mnp\u001b[0m\u001b[1;33m.\u001b[0m\u001b[0mseterr\u001b[0m\u001b[1;33m(\u001b[0m\u001b[1;33m**\u001b[0m\u001b[0mold_err\u001b[0m\u001b[1;33m)\u001b[0m\u001b[1;33m\u001b[0m\u001b[0m\n",
        "\u001b[1;32m/home/ctnuser/git/nengo/nengo/builder/operator.py\u001b[0m in \u001b[0;36mstep\u001b[1;34m()\u001b[0m\n\u001b[0;32m    342\u001b[0m                     raise ValueError(\n\u001b[0;32m    343\u001b[0m                         \"Function '%s' returned invalid value\" % fn.__name__)\n\u001b[1;32m--> 344\u001b[1;33m                 \u001b[0moutput\u001b[0m\u001b[1;33m[\u001b[0m\u001b[1;33m.\u001b[0m\u001b[1;33m.\u001b[0m\u001b[1;33m.\u001b[0m\u001b[1;33m]\u001b[0m \u001b[1;33m=\u001b[0m \u001b[0my\u001b[0m\u001b[1;33m\u001b[0m\u001b[0m\n\u001b[0m\u001b[0;32m    345\u001b[0m \u001b[1;33m\u001b[0m\u001b[0m\n\u001b[0;32m    346\u001b[0m         \u001b[1;32mreturn\u001b[0m \u001b[0mstep\u001b[0m\u001b[1;33m\u001b[0m\u001b[0m\n",
        "\u001b[1;31mValueError\u001b[0m: cannot copy sequence with size 2 to array axis with dimension 1"
       ]
      }
     ],
     "prompt_number": 7
    },
    {
     "cell_type": "code",
     "collapsed": false,
     "input": [
      "print sim.data[conn_p].shape\n",
      "\n",
      "figure()\n",
      "plot(*response_curves(answer, sim))\n",
      "title(\"Response curves\")\n",
      "show()\n",
      "\n",
      "figure()\n",
      "plot(*response_curves(output, sim))\n",
      "title(\"Response curves\")\n",
      "show()\n",
      "\n",
      "fig = figure(figsize=(18,18))\n",
      "p1 = fig.add_subplot(6,1,1)\n",
      "p1.plot(t, sim.data[answer_p])\n",
      "p1.set_title(\"Answer\")\n",
      "\n",
      "p2 = fig.add_subplot(6,1,2)\n",
      "p2.plot(t, sim.data[output_p])\n",
      "p2.set_title(\"Output\")\n",
      "\n",
      "p3 = fig.add_subplot(6,1,3)\n",
      "p3.plot(t, sim.data[correct_answer_p])\n",
      "p3.set_title(\"Correct Answer\")\n",
      "\n",
      "p4 = fig.add_subplot(6,1,4)\n",
      "p4.plot(t, sim.data[error_p])\n",
      "p4.set_title(\"Error\")\n",
      "\n",
      "p5 = fig.add_subplot(6,1,5)\n",
      "p5.plot(t, sim.data[actual_error_p])\n",
      "p5.set_title(\"Actual Error\")\n",
      "\n",
      "p6 = fig.add_subplot(6,1,6)\n",
      "p6.plot(t, sim.data[output_error_p])\n",
      "p6.set_title(\"Output Error\")"
     ],
     "language": "python",
     "metadata": {},
     "outputs": []
    },
    {
     "cell_type": "code",
     "collapsed": false,
     "input": [
      "from nengo_gui.ipython import IPythonViz\n",
      "IPythonViz(model)"
     ],
     "language": "python",
     "metadata": {},
     "outputs": [
      {
       "html": [
        "\n",
        "                <div id=\"28d3d780-5a7b-4809-99cb-4035f8344af4\">\n",
        "                    <iframe\n",
        "                        src=\"http://localhost:56690\"\n",
        "                        width=\"100%\"\n",
        "                        height=\"600\"\n",
        "                        frameborder=\"0\"\n",
        "                        class=\"cell\"\n",
        "                        style=\"border: 1px solid #eee;\"\n",
        "                        allowfullscreen></iframe>\n",
        "                </div>\n",
        "            "
       ],
       "metadata": {},
       "output_type": "display_data",
       "text": [
        "<IPython.core.display.HTML at 0x7f0da1653d10>"
       ]
      }
     ],
     "prompt_number": 7
    },
    {
     "cell_type": "code",
     "collapsed": false,
     "input": [],
     "language": "python",
     "metadata": {},
     "outputs": []
    }
   ],
   "metadata": {}
  }
 ]
}