{
 "metadata": {
  "name": "",
  "signature": "sha256:a2922154be8e2fc5e331d16901a4dd93d117bd7af13d933b2366ab61a55cb4ae"
 },
 "nbformat": 3,
 "nbformat_minor": 0,
 "worksheets": [
  {
   "cells": [
    {
     "cell_type": "code",
     "collapsed": false,
     "input": [
      "%pylab inline\n",
      "import nengo\n",
      "from nengo.dists import Uniform\n",
      "from nengo.utils.ensemble import response_curves\n",
      "import numpy as np\n",
      "\n",
      "\n",
      "def generateData(n):\n",
      "    \"\"\" \n",
      "    generates a 2D linearly separable dataset with n samples. \n",
      "    The third element of the sample is the label\n",
      "    \"\"\"\n",
      "    choice = numpy.random.random_integers(1,3)\n",
      "    \n",
      "    if choice == 1:\n",
      "        xb = (np.random.rand(n)*2-1)/2-0.5\n",
      "        yb = (np.random.rand(n)*2-1)/2+0.5\n",
      "        xr = (np.random.rand(n)*2-1)/2+0.5\n",
      "        yr = (np.random.rand(n)*2-1)/2-0.5\n",
      "    elif choice == 2:\n",
      "        xb = (np.random.rand(n)*2-1)/2+0.5\n",
      "        yb = (np.random.rand(n)*2-1)/2+0.5\n",
      "        xr = (np.random.rand(n)*2-1)/2-0.5\n",
      "        yr = (np.random.rand(n)*2-1)/2-0.5\n",
      "    else:\n",
      "        xb = (np.random.rand(n)*2-1)/2+0.5\n",
      "        yb = (np.random.rand(n)*2-1)/2+0.5\n",
      "        xr = (np.random.rand(n)*2-1)/2-0.5\n",
      "        yr = (np.random.rand(n)*2-1)/2+0.5\n",
      "    \n",
      "    inputs = []\n",
      "    for i in range(len(xb)):\n",
      "        inputs.append([xb[i],yb[i],1])\n",
      "        inputs.append([xr[i],yr[i],-1])\n",
      "    return inputs\n",
      "\n",
      "\n"
     ],
     "language": "python",
     "metadata": {},
     "outputs": [
      {
       "output_type": "stream",
       "stream": "stdout",
       "text": [
        "Populating the interactive namespace from numpy and matplotlib\n"
       ]
      },
      {
       "javascript": [
        "\n",
        "        require([\"widgets/js/widget\", \"widgets/js/manager\"],\n",
        "            function(widget, manager) {\n",
        "          if (typeof widget.DOMWidgetView == 'undefined') {\n",
        "            widget = IPython;\n",
        "          }\n",
        "          if (typeof manager.WidgetManager == 'undefined') {\n",
        "            manager = IPython;\n",
        "          }\n",
        "\n",
        "          var NengoProgressBar = widget.DOMWidgetView.extend({\n",
        "            render: function() {\n",
        "              // $el is the DOM of the widget\n",
        "              this.$el.css({width: '100%', marginBottom: '0.5em'});\n",
        "              this.$el.html([\n",
        "                '<div style=\"',\n",
        "                    'width: 100%;',\n",
        "                    'border: 1px solid #cfcfcf;',\n",
        "                    'border-radius: 4px;',\n",
        "                    'text-align: center;',\n",
        "                    'position: relative;\">',\n",
        "                  '<div class=\"pb-text\" style=\"',\n",
        "                      'position: absolute;',\n",
        "                      'width: 100%;\">',\n",
        "                    '0%',\n",
        "                  '</div>',\n",
        "                  '<div class=\"pb-bar\" style=\"',\n",
        "                      'background-color: #bdd2e6;',\n",
        "                      'width: 0%;',\n",
        "                      'transition: width 0.1s linear;\">',\n",
        "                    '&nbsp;',\n",
        "                  '</div>',\n",
        "                '</div>'].join(''));\n",
        "            },\n",
        "\n",
        "            update: function() {\n",
        "              this.$el.css({width: '100%', marginBottom: '0.5em'});\n",
        "              var progress = 100 * this.model.get('progress');\n",
        "              var text = this.model.get('text');\n",
        "              this.$el.find('div.pb-bar').width(progress.toString() + '%');\n",
        "              this.$el.find('div.pb-text').text(text);\n",
        "            },\n",
        "          });\n",
        "\n",
        "          manager.WidgetManager.register_widget_view(\n",
        "            'NengoProgressBar', NengoProgressBar);\n",
        "        });"
       ],
       "metadata": {},
       "output_type": "display_data",
       "text": [
        "<IPython.core.display.Javascript at 0x7f6de65eba90>"
       ]
      }
     ],
     "prompt_number": 2
    },
    {
     "cell_type": "code",
     "collapsed": false,
     "input": [
      "N = 100 #number of neurons\n",
      "D_inp = 3\n",
      "D_hl = 4\n",
      "D_out = 3\n",
      "samples = 50\n",
      "model = nengo.Network('Backpropagation')\n",
      "data = generateData(samples)\n",
      "\n",
      "weights_1 = np.random.randn(D_inp,D_hl).transpose()    \n",
      "weights_2 = np.random.randn(D_hl,D_out).transpose()    \n",
      "\n",
      "with model:  \n",
      "    def stim(t):\n",
      "        for i in range(samples):\n",
      "            if t < i:\n",
      "                return [data[i][0], data[i][1], 1]\n",
      "        return 0\n",
      "    \n",
      "        \n",
      "    def stim_ans(t):\n",
      "        for i in range(samples):\n",
      "            if t < i:\n",
      "                return [data[i][2],1,1]\n",
      "        return 0  \n",
      "    \n",
      "    \n",
      "    stim = nengo.Node(output=stim, size_out=D_inp)\n",
      "    stim_ans = nengo.Node(output=stim_ans, size_out=D_inp)\n",
      "    \n",
      "    \n",
      "    input = nengo.Ensemble(N, dimensions=D_inp) \n",
      "    hiddenlayer = nengo.Ensemble(N, dimensions=D_hl)\n",
      "    answer = nengo.Ensemble(N, dimensions=D_out)\n",
      "    error_1 = nengo.Ensemble(N, dimensions=D_out, radius=2)  \n",
      "    correct_answer = nengo.Ensemble(N, dimensions=D_out, radius=2) \n",
      "    \n",
      "    nengo.Connection(stim, input) \n",
      "    nengo.Connection(stim_ans, correct_answer)\n",
      "    \n",
      "    conn_2 = nengo.Connection(input, hiddenlayer, transform=weights_1, solver=nengo.solvers.LstsqL2(weights=True))\n",
      "    conn_1 = nengo.Connection(hiddenlayer, answer, transform=weights_2, solver=nengo.solvers.LstsqL2(weights=True)) \n",
      "    \n",
      "    nengo.Connection(answer, error_1, transform=-1)\n",
      "    nengo.Connection(correct_answer, error_1)\n",
      "    error_conn1 = nengo.Connection(error_1, answer, modulatory=True)\n",
      "    \n",
      "    conn_1.learning_rule_type = nengo.PES(error_conn1, learning_rate=1e-6)\n",
      "    \n",
      "    \n",
      "    # Error for the hidden layer\n",
      "    error_2 = nengo.Ensemble(N, dimensions=D_hl, radius=2)  \n",
      "    nengo.Connection(error_1, error_2, transform=weights_2.transpose(), solver=nengo.solvers.LstsqL2(weights=True))\n",
      "    error_conn2 = nengo.Connection(error_2, hiddenlayer, modulatory=True)\n",
      "    conn_2.learning_rule_type = nengo.PES(error_conn2, learning_rate=1e-6)\n",
      "    \n",
      "    \n",
      "    def inhibit(t):\n",
      "        return 2.0 if t > 30.0 else 0.0\n",
      "    \n",
      "    \n",
      "    inhib = nengo.Node(inhibit)\n",
      "    nengo.Connection(inhib, error_1.neurons, transform=[[-1]] * error_1.n_neurons)\n",
      "    nengo.Connection(inhib, error_2.neurons, transform=[[-1]] * error_2.n_neurons)\n",
      "    "
     ],
     "language": "python",
     "metadata": {},
     "outputs": [
      {
       "ename": "NameError",
       "evalue": "name 'D' is not defined",
       "output_type": "pyerr",
       "traceback": [
        "\u001b[1;31m---------------------------------------------------------------------------\u001b[0m\n\u001b[1;31mNameError\u001b[0m                                 Traceback (most recent call last)",
        "\u001b[1;32m<ipython-input-3-d755d2b445f5>\u001b[0m in \u001b[0;36m<module>\u001b[1;34m()\u001b[0m\n\u001b[0;32m     25\u001b[0m \u001b[1;33m\u001b[0m\u001b[0m\n\u001b[0;32m     26\u001b[0m \u001b[1;33m\u001b[0m\u001b[0m\n\u001b[1;32m---> 27\u001b[1;33m     \u001b[0mstim\u001b[0m \u001b[1;33m=\u001b[0m \u001b[0mnengo\u001b[0m\u001b[1;33m.\u001b[0m\u001b[0mNode\u001b[0m\u001b[1;33m(\u001b[0m\u001b[0moutput\u001b[0m\u001b[1;33m=\u001b[0m\u001b[0mstim\u001b[0m\u001b[1;33m,\u001b[0m \u001b[0msize_out\u001b[0m\u001b[1;33m=\u001b[0m\u001b[0mD\u001b[0m\u001b[1;33m)\u001b[0m\u001b[1;33m\u001b[0m\u001b[0m\n\u001b[0m\u001b[0;32m     28\u001b[0m     \u001b[0mstim_ans\u001b[0m \u001b[1;33m=\u001b[0m \u001b[0mnengo\u001b[0m\u001b[1;33m.\u001b[0m\u001b[0mNode\u001b[0m\u001b[1;33m(\u001b[0m\u001b[0moutput\u001b[0m\u001b[1;33m=\u001b[0m\u001b[0mstim_ans\u001b[0m\u001b[1;33m,\u001b[0m \u001b[0msize_out\u001b[0m\u001b[1;33m=\u001b[0m\u001b[0mD_inp\u001b[0m\u001b[1;33m)\u001b[0m\u001b[1;33m\u001b[0m\u001b[0m\n\u001b[0;32m     29\u001b[0m \u001b[1;33m\u001b[0m\u001b[0m\n",
        "\u001b[1;31mNameError\u001b[0m: name 'D' is not defined"
       ]
      }
     ],
     "prompt_number": 3
    },
    {
     "cell_type": "code",
     "collapsed": false,
     "input": [
      "with model:\n",
      "    input1_p = nengo.Probe(input, synapse=0.1)\n",
      "    answer_p = nengo.Probe(answer, synapse=0.1)\n",
      "    correct_answer_p = nengo.Probe(correct_answer, synapse=0.1)\n",
      "    #error_p = nengo.Probe(error, synapse=0.1)\n",
      "    #output_p = nengo.Probe(output, synapse=0.1)\n",
      "    \n",
      "    #conn_p = nengo.Probe(conn, synapse=0.1, attr='transform', sample_every=30)"
     ],
     "language": "python",
     "metadata": {},
     "outputs": [
      {
       "ename": "TypeError",
       "evalue": "Validation error when setting 'Probe.target': Type 'function' is not probeable",
       "output_type": "pyerr",
       "traceback": [
        "\u001b[1;31m---------------------------------------------------------------------------\u001b[0m\n\u001b[1;31mTypeError\u001b[0m                                 Traceback (most recent call last)",
        "\u001b[1;32m<ipython-input-4-bcc001c29f81>\u001b[0m in \u001b[0;36m<module>\u001b[1;34m()\u001b[0m\n\u001b[0;32m      1\u001b[0m \u001b[1;32mwith\u001b[0m \u001b[0mmodel\u001b[0m\u001b[1;33m:\u001b[0m\u001b[1;33m\u001b[0m\u001b[0m\n\u001b[1;32m----> 2\u001b[1;33m     \u001b[0minput1_p\u001b[0m \u001b[1;33m=\u001b[0m \u001b[0mnengo\u001b[0m\u001b[1;33m.\u001b[0m\u001b[0mProbe\u001b[0m\u001b[1;33m(\u001b[0m\u001b[0minput\u001b[0m\u001b[1;33m,\u001b[0m \u001b[0msynapse\u001b[0m\u001b[1;33m=\u001b[0m\u001b[1;36m0.1\u001b[0m\u001b[1;33m)\u001b[0m\u001b[1;33m\u001b[0m\u001b[0m\n\u001b[0m\u001b[0;32m      3\u001b[0m     \u001b[0manswer_p\u001b[0m \u001b[1;33m=\u001b[0m \u001b[0mnengo\u001b[0m\u001b[1;33m.\u001b[0m\u001b[0mProbe\u001b[0m\u001b[1;33m(\u001b[0m\u001b[0manswer\u001b[0m\u001b[1;33m,\u001b[0m \u001b[0msynapse\u001b[0m\u001b[1;33m=\u001b[0m\u001b[1;36m0.1\u001b[0m\u001b[1;33m)\u001b[0m\u001b[1;33m\u001b[0m\u001b[0m\n\u001b[0;32m      4\u001b[0m     \u001b[0mcorrect_answer_p\u001b[0m \u001b[1;33m=\u001b[0m \u001b[0mnengo\u001b[0m\u001b[1;33m.\u001b[0m\u001b[0mProbe\u001b[0m\u001b[1;33m(\u001b[0m\u001b[0mcorrect_answer\u001b[0m\u001b[1;33m,\u001b[0m \u001b[0msynapse\u001b[0m\u001b[1;33m=\u001b[0m\u001b[1;36m0.1\u001b[0m\u001b[1;33m)\u001b[0m\u001b[1;33m\u001b[0m\u001b[0m\n\u001b[0;32m      5\u001b[0m     \u001b[1;31m#error_p = nengo.Probe(error, synapse=0.1)\u001b[0m\u001b[1;33m\u001b[0m\u001b[1;33m\u001b[0m\u001b[0m\n",
        "\u001b[1;32m/home/ctnuser/git/nengo/nengo/base.py\u001b[0m in \u001b[0;36m__call__\u001b[1;34m(cls, *args, **kwargs)\u001b[0m\n\u001b[0;32m     22\u001b[0m         \u001b[0madd_to_container\u001b[0m \u001b[1;33m=\u001b[0m \u001b[0mkwargs\u001b[0m\u001b[1;33m.\u001b[0m\u001b[0mpop\u001b[0m\u001b[1;33m(\u001b[0m\u001b[1;34m'add_to_container'\u001b[0m\u001b[1;33m,\u001b[0m \u001b[0mTrue\u001b[0m\u001b[1;33m)\u001b[0m\u001b[1;33m\u001b[0m\u001b[0m\n\u001b[0;32m     23\u001b[0m         \u001b[1;31m# Do the __init__ before adding in case __init__ errors out\u001b[0m\u001b[1;33m\u001b[0m\u001b[1;33m\u001b[0m\u001b[0m\n\u001b[1;32m---> 24\u001b[1;33m         \u001b[0minst\u001b[0m\u001b[1;33m.\u001b[0m\u001b[0m__init__\u001b[0m\u001b[1;33m(\u001b[0m\u001b[1;33m*\u001b[0m\u001b[0margs\u001b[0m\u001b[1;33m,\u001b[0m \u001b[1;33m**\u001b[0m\u001b[0mkwargs\u001b[0m\u001b[1;33m)\u001b[0m\u001b[1;33m\u001b[0m\u001b[0m\n\u001b[0m\u001b[0;32m     25\u001b[0m         \u001b[1;32mif\u001b[0m \u001b[0madd_to_container\u001b[0m\u001b[1;33m:\u001b[0m\u001b[1;33m\u001b[0m\u001b[0m\n\u001b[0;32m     26\u001b[0m             \u001b[0mNetwork\u001b[0m\u001b[1;33m.\u001b[0m\u001b[0madd\u001b[0m\u001b[1;33m(\u001b[0m\u001b[0minst\u001b[0m\u001b[1;33m)\u001b[0m\u001b[1;33m\u001b[0m\u001b[0m\n",
        "\u001b[1;32m/home/ctnuser/git/nengo/nengo/probe.py\u001b[0m in \u001b[0;36m__init__\u001b[1;34m(self, target, attr, sample_every, synapse, solver, seed, label)\u001b[0m\n\u001b[0;32m     90\u001b[0m     def __init__(self, target, attr=None, sample_every=Default,\n\u001b[0;32m     91\u001b[0m                  synapse=Default, solver=Default, seed=Default, label=Default):\n\u001b[1;32m---> 92\u001b[1;33m         \u001b[0mself\u001b[0m\u001b[1;33m.\u001b[0m\u001b[0mtarget\u001b[0m \u001b[1;33m=\u001b[0m \u001b[0mtarget\u001b[0m\u001b[1;33m\u001b[0m\u001b[0m\n\u001b[0m\u001b[0;32m     93\u001b[0m         \u001b[0mself\u001b[0m\u001b[1;33m.\u001b[0m\u001b[0mattr\u001b[0m \u001b[1;33m=\u001b[0m \u001b[0mattr\u001b[0m \u001b[1;32mif\u001b[0m \u001b[0mattr\u001b[0m \u001b[1;32mis\u001b[0m \u001b[1;32mnot\u001b[0m \u001b[0mNone\u001b[0m \u001b[1;32melse\u001b[0m \u001b[0mself\u001b[0m\u001b[1;33m.\u001b[0m\u001b[0mobj\u001b[0m\u001b[1;33m.\u001b[0m\u001b[0mprobeable\u001b[0m\u001b[1;33m[\u001b[0m\u001b[1;36m0\u001b[0m\u001b[1;33m]\u001b[0m\u001b[1;33m\u001b[0m\u001b[0m\n\u001b[0;32m     94\u001b[0m         \u001b[0mself\u001b[0m\u001b[1;33m.\u001b[0m\u001b[0msample_every\u001b[0m \u001b[1;33m=\u001b[0m \u001b[0msample_every\u001b[0m\u001b[1;33m\u001b[0m\u001b[0m\n",
        "\u001b[1;32m/home/ctnuser/git/nengo/nengo/base.py\u001b[0m in \u001b[0;36m__setattr__\u001b[1;34m(self, name, val)\u001b[0m\n\u001b[0;32m     61\u001b[0m             \u001b[0mval\u001b[0m \u001b[1;33m=\u001b[0m \u001b[0mConfig\u001b[0m\u001b[1;33m.\u001b[0m\u001b[0mdefault\u001b[0m\u001b[1;33m(\u001b[0m\u001b[0mtype\u001b[0m\u001b[1;33m(\u001b[0m\u001b[0mself\u001b[0m\u001b[1;33m)\u001b[0m\u001b[1;33m,\u001b[0m \u001b[0mname\u001b[0m\u001b[1;33m)\u001b[0m\u001b[1;33m\u001b[0m\u001b[0m\n\u001b[0;32m     62\u001b[0m         \u001b[1;32mtry\u001b[0m\u001b[1;33m:\u001b[0m\u001b[1;33m\u001b[0m\u001b[0m\n\u001b[1;32m---> 63\u001b[1;33m             \u001b[0msuper\u001b[0m\u001b[1;33m(\u001b[0m\u001b[0mNengoObject\u001b[0m\u001b[1;33m,\u001b[0m \u001b[0mself\u001b[0m\u001b[1;33m)\u001b[0m\u001b[1;33m.\u001b[0m\u001b[0m__setattr__\u001b[0m\u001b[1;33m(\u001b[0m\u001b[0mname\u001b[0m\u001b[1;33m,\u001b[0m \u001b[0mval\u001b[0m\u001b[1;33m)\u001b[0m\u001b[1;33m\u001b[0m\u001b[0m\n\u001b[0m\u001b[0;32m     64\u001b[0m         \u001b[1;32mexcept\u001b[0m \u001b[0mException\u001b[0m \u001b[1;32mas\u001b[0m \u001b[0me\u001b[0m\u001b[1;33m:\u001b[0m\u001b[1;33m\u001b[0m\u001b[0m\n\u001b[0;32m     65\u001b[0m             \u001b[0marg0\u001b[0m \u001b[1;33m=\u001b[0m \u001b[1;34m''\u001b[0m \u001b[1;32mif\u001b[0m \u001b[0mlen\u001b[0m\u001b[1;33m(\u001b[0m\u001b[0me\u001b[0m\u001b[1;33m.\u001b[0m\u001b[0margs\u001b[0m\u001b[1;33m)\u001b[0m \u001b[1;33m==\u001b[0m \u001b[1;36m0\u001b[0m \u001b[1;32melse\u001b[0m \u001b[0me\u001b[0m\u001b[1;33m.\u001b[0m\u001b[0margs\u001b[0m\u001b[1;33m[\u001b[0m\u001b[1;36m0\u001b[0m\u001b[1;33m]\u001b[0m\u001b[1;33m\u001b[0m\u001b[0m\n",
        "\u001b[1;32m/home/ctnuser/git/nengo/nengo/params.py\u001b[0m in \u001b[0;36m__set__\u001b[1;34m(self, instance, value)\u001b[0m\n\u001b[0;32m     65\u001b[0m \u001b[1;33m\u001b[0m\u001b[0m\n\u001b[0;32m     66\u001b[0m     \u001b[1;32mdef\u001b[0m \u001b[0m__set__\u001b[0m\u001b[1;33m(\u001b[0m\u001b[0mself\u001b[0m\u001b[1;33m,\u001b[0m \u001b[0minstance\u001b[0m\u001b[1;33m,\u001b[0m \u001b[0mvalue\u001b[0m\u001b[1;33m)\u001b[0m\u001b[1;33m:\u001b[0m\u001b[1;33m\u001b[0m\u001b[0m\n\u001b[1;32m---> 67\u001b[1;33m         \u001b[0mself\u001b[0m\u001b[1;33m.\u001b[0m\u001b[0mvalidate\u001b[0m\u001b[1;33m(\u001b[0m\u001b[0minstance\u001b[0m\u001b[1;33m,\u001b[0m \u001b[0mvalue\u001b[0m\u001b[1;33m)\u001b[0m\u001b[1;33m\u001b[0m\u001b[0m\n\u001b[0m\u001b[0;32m     68\u001b[0m         \u001b[0mself\u001b[0m\u001b[1;33m.\u001b[0m\u001b[0mdata\u001b[0m\u001b[1;33m[\u001b[0m\u001b[0minstance\u001b[0m\u001b[1;33m]\u001b[0m \u001b[1;33m=\u001b[0m \u001b[0mvalue\u001b[0m\u001b[1;33m\u001b[0m\u001b[0m\n\u001b[0;32m     69\u001b[0m \u001b[1;33m\u001b[0m\u001b[0m\n",
        "\u001b[1;32m/home/ctnuser/git/nengo/nengo/probe.py\u001b[0m in \u001b[0;36mvalidate\u001b[1;34m(self, probe, target)\u001b[0m\n\u001b[0;32m     13\u001b[0m         \u001b[1;32mif\u001b[0m \u001b[1;32mnot\u001b[0m \u001b[0mhasattr\u001b[0m\u001b[1;33m(\u001b[0m\u001b[0mobj\u001b[0m\u001b[1;33m,\u001b[0m \u001b[1;34m'probeable'\u001b[0m\u001b[1;33m)\u001b[0m\u001b[1;33m:\u001b[0m\u001b[1;33m\u001b[0m\u001b[0m\n\u001b[0;32m     14\u001b[0m             raise TypeError(\n\u001b[1;32m---> 15\u001b[1;33m                 \"Type '%s' is not probeable\" % obj.__class__.__name__)\n\u001b[0m\u001b[0;32m     16\u001b[0m \u001b[1;33m\u001b[0m\u001b[0m\n\u001b[0;32m     17\u001b[0m         \u001b[1;31m# do this after; better to know that type is not Probable first\u001b[0m\u001b[1;33m\u001b[0m\u001b[1;33m\u001b[0m\u001b[0m\n",
        "\u001b[1;31mTypeError\u001b[0m: Validation error when setting 'Probe.target': Type 'function' is not probeable"
       ]
      }
     ],
     "prompt_number": 4
    },
    {
     "cell_type": "code",
     "collapsed": false,
     "input": [
      "sim = nengo.Simulator(model)\n",
      "sim.run(50.0)\n",
      "t = sim.trange()"
     ],
     "language": "python",
     "metadata": {},
     "outputs": [],
     "prompt_number": 26
    },
    {
     "cell_type": "code",
     "collapsed": false,
     "input": [
      "figure()\n",
      "plot(*response_curves(answer, sim))\n",
      "title(\"Response curves\")\n",
      "show()\n",
      "\n",
      "fig = figure(figsize=(10,10))\n",
      "p1 = fig.add_subplot(3,1,1)\n",
      "p1.plot(t, sim.data[answer_p])\n",
      "p1.set_title(\"Answer\")\n",
      "\n",
      "p2 = fig.add_subplot(3,1,2)\n",
      "p2.plot(t, sim.data[output_p])\n",
      "p2.set_title(\"Output\")\n",
      "\n",
      "p3 = fig.add_subplot(3,1,3)\n",
      "p3.plot(t, sim.data[correct_answer_p])\n",
      "p3.set_title(\"Correct Answer\")\n",
      "show()\n",
      "\n",
      "figure()\n",
      "plot(t, sim.data[error_p])\n",
      "title(\"Error\")\n",
      "show()"
     ],
     "language": "python",
     "metadata": {},
     "outputs": [
      {
       "ename": "NameError",
       "evalue": "name 'figure' is not defined",
       "output_type": "pyerr",
       "traceback": [
        "\u001b[1;31m---------------------------------------------------------------------------\u001b[0m\n\u001b[1;31mNameError\u001b[0m                                 Traceback (most recent call last)",
        "\u001b[1;32m<ipython-input-1-7661af9b557d>\u001b[0m in \u001b[0;36m<module>\u001b[1;34m()\u001b[0m\n\u001b[1;32m----> 1\u001b[1;33m \u001b[0mfigure\u001b[0m\u001b[1;33m(\u001b[0m\u001b[1;33m)\u001b[0m\u001b[1;33m\u001b[0m\u001b[0m\n\u001b[0m\u001b[0;32m      2\u001b[0m \u001b[0mplot\u001b[0m\u001b[1;33m(\u001b[0m\u001b[1;33m*\u001b[0m\u001b[0mresponse_curves\u001b[0m\u001b[1;33m(\u001b[0m\u001b[0manswer\u001b[0m\u001b[1;33m,\u001b[0m \u001b[0msim\u001b[0m\u001b[1;33m)\u001b[0m\u001b[1;33m)\u001b[0m\u001b[1;33m\u001b[0m\u001b[0m\n\u001b[0;32m      3\u001b[0m \u001b[0mtitle\u001b[0m\u001b[1;33m(\u001b[0m\u001b[1;34m\"Response curves\"\u001b[0m\u001b[1;33m)\u001b[0m\u001b[1;33m\u001b[0m\u001b[0m\n\u001b[0;32m      4\u001b[0m \u001b[0mshow\u001b[0m\u001b[1;33m(\u001b[0m\u001b[1;33m)\u001b[0m\u001b[1;33m\u001b[0m\u001b[0m\n\u001b[0;32m      5\u001b[0m \u001b[1;33m\u001b[0m\u001b[0m\n",
        "\u001b[1;31mNameError\u001b[0m: name 'figure' is not defined"
       ]
      }
     ],
     "prompt_number": 1
    },
    {
     "cell_type": "code",
     "collapsed": false,
     "input": [],
     "language": "python",
     "metadata": {},
     "outputs": []
    }
   ],
   "metadata": {}
  }
 ]
}