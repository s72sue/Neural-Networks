{
 "metadata": {
  "name": "",
  "signature": "sha256:545a0f85c5d2c41f21c0b6565bfd0ff961fa7b68943d416f4465754b7b31182a"
 },
 "nbformat": 3,
 "nbformat_minor": 0,
 "worksheets": [
  {
   "cells": [
    {
     "cell_type": "code",
     "collapsed": false,
     "input": [
      "%pylab inline\n",
      "import nengo\n",
      "from nengo.dists import Uniform\n",
      "from nengo.utils.ensemble import response_curves\n",
      "import numpy as np\n",
      "\n",
      "N = 100 #number of neurons\n",
      "D = 2\n",
      "samples = 50\n",
      "model = nengo.Network('Backpropagation')\n",
      "\n",
      "with model:  \n",
      "    def stim(t):\n",
      "        for i in range(samples):\n",
      "            if t < i:\n",
      "                return [data[i][0], data[i][1], 1]\n",
      "        return 0\n",
      "    \n",
      "        \n",
      "    def stim_ans(t):\n",
      "        for i in range(samples):\n",
      "            if t < i:\n",
      "                return data[i][2]\n",
      "        return 0  \n",
      "    \n",
      "    \n",
      "    stim = nengo.Node(output=stim, size_out=D)\n",
      "    stim_ans = nengo.Node(output=stim_ans, size_out=1)\n",
      "    \n",
      "    \n",
      "    input = nengo.Ensemble(N, dimensions=D)                \n",
      "    answer = nengo.Ensemble(N, dimensions=1, radius=2) \n",
      "    error = nengo.Ensemble(N, dimensions=1, radius=2)  \n",
      "    correct_answer = nengo.Ensemble(N, dimensions=1, radius=2) "
     ],
     "language": "python",
     "metadata": {},
     "outputs": []
    }
   ],
   "metadata": {}
  }
 ]
}