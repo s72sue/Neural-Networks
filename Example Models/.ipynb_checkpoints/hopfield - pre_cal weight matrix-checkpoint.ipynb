{
 "metadata": {
  "name": "",
  "signature": "sha256:dbd61c3458f185dd5a67fb872d23c64e250d9880975415308c4b05995c9ac19c"
 },
 "nbformat": 3,
 "nbformat_minor": 0,
 "worksheets": [
  {
   "cells": [
    {
     "cell_type": "markdown",
     "metadata": {},
     "source": [
      "This is the hopfield net with pre-calculated weight matrix based on the initial model suggested by John Hopfield. The calculation of the weight matrix is based on the hebbian learning rule.\n",
      "\n",
      " Wij = (2Vi - 1)(2Vj - 1) where V is a pattern to be stored in the network.\n",
      " In case we want to store multiple patterns, Wij = sum of (2Vi - 1)(2Vj - 1) calculated for each pattern.\n",
      " \n",
      " Maximum number of patterns which can be stored in a hofield net having n nodes = N/2logN.\n",
      " \n",
      " \n",
      " \n",
      " In this example, \n",
      " mode 1 = has only one pattern stored in the network leading to only one attractor (0101)\n",
      " mode 2 = has only two patterns stored in the network leading to only two attractors (01101,10101)"
     ]
    },
    {
     "cell_type": "code",
     "collapsed": false,
     "input": [
      "%pylab inline\n",
      "import nengo\n",
      "from nengo.dists import Uniform\n",
      "from nengo.utils.ensemble import response_curves\n",
      "import numpy as np\n",
      "\n",
      "mode = 2\n",
      "if mode == 1:\n",
      "    N = 4      #number of neurons\n",
      "    model = nengo.Network('Hopfield net sigmoids')\n",
      "    start =   np.random.rand(N)  \n",
      "    #start =  np.array([0,1,0,1])   #attractor\n",
      "    #start =  np.array([0,1,0,0])\n",
      "    #start =  np.array([1,1,0,1])\n",
      "    #start =  np.array([0,1,1,1])\n",
      "    #start =  np.array([0,0,0,1])\n",
      "    weights = np.matrix('0 -1 1 -1; -1 0 -1 1; 1 -1 0 -1; -1 1 -1 0')\n",
      "    \n",
      "elif mode == 2:\n",
      "    N = 5       #number of neurons\n",
      "    model = nengo.Network('Hopfield net sigmoids')\n",
      "    start =   np.random.rand(N)\n",
      "    #start =  np.array([0,1,1,0,1])   #first attractor\n",
      "    #start =  np.array([0,1,1,0,0])\n",
      "    #start =  np.array([0,1,1,1,1])\n",
      "    #start =  np.array([0,1,0,0,1])\n",
      "    #start =  np.array([0,0,1,0,1])     #doesn't converge  00101\n",
      "    #start =  np.array([1,1,1,0,1])     #doesn't converge  00101\n",
      "    \n",
      "    #start =  np.array([1,0,1,0,1])   #second attractor\n",
      "    #start =  np.array([1,0,1,0,0])\n",
      "    #start =  np.array([1,0,1,1,1])\n",
      "    #start =  np.array([1,0,0,0,1])\n",
      "    #start =  np.array([1,1,1,0,1])     #doesn't converge  00101\n",
      "    #start =  np.array([0,0,1,0,1])     #doesn't converge  00101\n",
      "    \n",
      "    weights = np.matrix('0 -2 0 0 0; -2 0 0 0 0; 0 0 0 -2 2; 0 0 -2 0 -2; 0 0 2 -2 0')"
     ],
     "language": "python",
     "metadata": {},
     "outputs": [
      {
       "output_type": "stream",
       "stream": "stdout",
       "text": [
        "Populating the interactive namespace from numpy and matplotlib\n"
       ]
      },
      {
       "javascript": [
        "\n",
        "        require([\"widgets/js/widget\", \"widgets/js/manager\"],\n",
        "            function(widget, manager) {\n",
        "          if (typeof widget.DOMWidgetView == 'undefined') {\n",
        "            widget = IPython;\n",
        "          }\n",
        "          if (typeof manager.WidgetManager == 'undefined') {\n",
        "            manager = IPython;\n",
        "          }\n",
        "\n",
        "          var NengoProgressBar = widget.DOMWidgetView.extend({\n",
        "            render: function() {\n",
        "              // $el is the DOM of the widget\n",
        "              this.$el.css({width: '100%', marginBottom: '0.5em'});\n",
        "              this.$el.html([\n",
        "                '<div style=\"',\n",
        "                    'width: 100%;',\n",
        "                    'border: 1px solid #cfcfcf;',\n",
        "                    'border-radius: 4px;',\n",
        "                    'text-align: center;',\n",
        "                    'position: relative;\">',\n",
        "                  '<div class=\"pb-text\" style=\"',\n",
        "                      'position: absolute;',\n",
        "                      'width: 100%;\">',\n",
        "                    '0%',\n",
        "                  '</div>',\n",
        "                  '<div class=\"pb-bar\" style=\"',\n",
        "                      'background-color: #bdd2e6;',\n",
        "                      'width: 0%;',\n",
        "                      'transition: width 0.1s linear;\">',\n",
        "                    '&nbsp;',\n",
        "                  '</div>',\n",
        "                '</div>'].join(''));\n",
        "            },\n",
        "\n",
        "            update: function() {\n",
        "              this.$el.css({width: '100%', marginBottom: '0.5em'});\n",
        "              var progress = 100 * this.model.get('progress');\n",
        "              var text = this.model.get('text');\n",
        "              this.$el.find('div.pb-bar').width(progress.toString() + '%');\n",
        "              this.$el.find('div.pb-text').text(text);\n",
        "            },\n",
        "          });\n",
        "\n",
        "          manager.WidgetManager.register_widget_view(\n",
        "            'NengoProgressBar', NengoProgressBar);\n",
        "        });"
       ],
       "metadata": {},
       "output_type": "display_data",
       "text": [
        "<IPython.core.display.Javascript at 0x7fedd55d4410>"
       ]
      }
     ],
     "prompt_number": 1
    },
    {
     "cell_type": "code",
     "collapsed": false,
     "input": [
      "with model:\n",
      "    stim = nengo.Node(lambda t: start if (t<=.1) else [0]*N)\n",
      "    ens = nengo.Ensemble(N, dimensions=N, \n",
      "                         encoders=np.eye(N), \n",
      "                         max_rates=Uniform(.999,.999),\n",
      "                         intercepts=Uniform(-1,-1),\n",
      "                         neuron_type=nengo.neurons.Sigmoid(tau_ref=1))\n",
      "    \n",
      "    conn = nengo.Connection(ens, ens, transform=weights, solver=nengo.solvers.LstsqL2(weights=True), synapse=0)  \n",
      "    nengo.Connection(stim, ens, synapse=0)\n",
      "    \n",
      "    stim_p = nengo.Probe(stim)\n",
      "    ens_p = nengo.Probe(ens.neurons, 'rates')\n",
      "    conn_p = nengo.Probe(conn, attr = 'transform')\n",
      "\n",
      "\n",
      "sim = nengo.Simulator(model)\n",
      "sim.run(2)\n",
      "t = sim.trange()\n",
      "\n",
      "matshow(weights)\n",
      "\n",
      "figure()\n",
      "plot(*response_curves(ens, sim))\n",
      "title(\"Response curves\")\n",
      "\n",
      "figure()\n",
      "plot(t, sim.data[stim_p])\n",
      "title(\"Input (Stim)\")\n",
      "\n",
      "figure()\n",
      "plot(t, sim.data[ens_p]);\n",
      "ylim(-0.5,1.5)\n",
      "title(\"neurons rates\")"
     ],
     "language": "python",
     "metadata": {},
     "outputs": [
      {
       "metadata": {},
       "output_type": "pyout",
       "prompt_number": 2,
       "text": [
        "<matplotlib.text.Text at 0x7fedd487a750>"
       ]
      },
      {
       "metadata": {},
       "output_type": "display_data",
       "png": "[encoded data removed]",
       "text": [
        "<matplotlib.figure.Figure at 0x7fedd558d210>"
       ]
      },
      {
       "metadata": {},
       "output_type": "display_data",
       "png": "[encoded data removed]",
       "text": [
        "<matplotlib.figure.Figure at 0x7fedd565a6d0>"
       ]
      },
      {
       "metadata": {},
       "output_type": "display_data",
       "png": "[encoded data removed]",
       "text": [
        "<matplotlib.figure.Figure at 0x7fedd4315d10>"
       ]
      },
      {
       "metadata": {},
       "output_type": "display_data",
       "png": "[encoded data removed]",
       "text": [
        "<matplotlib.figure.Figure at 0x7fedcfdec3d0>"
       ]
      }
     ],
     "prompt_number": 2
    },
    {
     "cell_type": "code",
     "collapsed": false,
     "input": [
      "print \"start vector\"\n",
      "print start\n",
      "\n",
      "print \"\\ninitial weights\"\n",
      "print weights\n",
      "\n",
      "print \"\\nstim P\"\n",
      "print sim.data[stim_p]\n",
      "\n",
      "print \"\\nens P\"\n",
      "print sim.data[ens_p]\n",
      "\n",
      "print \"\\nens bias\"\n",
      "print sim.data[ens].bias"
     ],
     "language": "python",
     "metadata": {},
     "outputs": [
      {
       "output_type": "stream",
       "stream": "stdout",
       "text": [
        "start vector\n",
        "[ 0.73712881  0.4117113   0.37225816  0.22357255  0.99576724]\n",
        "\n",
        "initial weights\n",
        "[[ 0 -2  0  0  0]\n",
        " [-2  0  0  0  0]\n",
        " [ 0  0  0 -2  2]\n",
        " [ 0  0 -2  0 -2]\n",
        " [ 0  0  2 -2  0]]\n",
        "\n",
        "stim P\n",
        "[[ 0.73712881  0.4117113   0.37225816  0.22357255  0.99576724]\n",
        " [ 0.73712881  0.4117113   0.37225816  0.22357255  0.99576724]\n",
        " [ 0.73712881  0.4117113   0.37225816  0.22357255  0.99576724]\n",
        " ..., \n",
        " [ 0.          0.          0.          0.          0.        ]\n",
        " [ 0.          0.          0.          0.          0.        ]\n",
        " [ 0.          0.          0.          0.          0.        ]]\n",
        "\n",
        "ens P\n",
        "[[  4.99500000e-01   4.99500000e-01   4.99500000e-01   4.99500000e-01\n",
        "    4.99500000e-01]\n",
        " [  9.88701886e-01   8.97043801e-01   9.33777301e-01   5.36224243e-01\n",
        "    9.99029199e-01]\n",
        " [  9.76199681e-01   5.38201255e-01   9.99833944e-01   3.18512670e-02\n",
        "    9.99994723e-01]\n",
        " ..., \n",
        " [  9.99054700e-01   2.60226455e-03   9.99997661e-01   4.82375932e-06\n",
        "    9.99997879e-01]\n",
        " [  9.99054700e-01   2.60226455e-03   9.99997661e-01   4.82375932e-06\n",
        "    9.99997879e-01]\n",
        " [  9.99054700e-01   2.60226455e-03   9.99997661e-01   4.82375932e-06\n",
        "    9.99997879e-01]]\n",
        "\n",
        "ens bias\n",
        "[-0.002 -0.002 -0.002 -0.002 -0.002]\n"
       ]
      }
     ],
     "prompt_number": 3
    }
   ],
   "metadata": {}
  }
 ]
}