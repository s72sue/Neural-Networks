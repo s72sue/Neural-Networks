{
 "metadata": {
  "name": "",
  "signature": "sha256:0fa6b1eab7e1d3f91464042310da80738be45bd0c71c11651dc5e56aa515fa30"
 },
 "nbformat": 3,
 "nbformat_minor": 0,
 "worksheets": [
  {
   "cells": [
    {
     "cell_type": "code",
     "collapsed": false,
     "input": [
      "import nengo\n",
      "import nengo.spa as spa\n",
      "\n",
      "D = 32 # the dimensionality of the vectors\n",
      "\n",
      "model = spa.SPA()\n",
      "with model:\n",
      " model.memory = spa.Memory(D)\n",
      "\n",
      " actions = spa.Actions(\n",
      " 'dot(memory, A) --> memory=B',\n",
      " 'dot(memory, B) --> memory=C',\n",
      " 'dot(memory, C) --> memory=D',\n",
      " 'dot(memory, D) --> memory=E',\n",
      " 'dot(memory, E) --> memory=A',\n",
      " )\n",
      "\n",
      " model.bg = spa.BasalGanglia(actions)\n",
      " model.thalamus = spa.Thalamus(model.bg)"
     ],
     "language": "python",
     "metadata": {},
     "outputs": [],
     "prompt_number": 6
    },
    {
     "cell_type": "code",
     "collapsed": false,
     "input": [
      "from nengo_gui.ipython import IPythonViz\n",
      "IPythonViz(model)"
     ],
     "language": "python",
     "metadata": {},
     "outputs": [
      {
       "html": [
        "\n",
        "                <div id=\"e8b831ee-5ecd-43f9-9296-d0bfe1b45b73\">\n",
        "                    <iframe\n",
        "                        src=\"http://localhost:41211\"\n",
        "                        width=\"100%\"\n",
        "                        height=\"600\"\n",
        "                        frameborder=\"0\"\n",
        "                        class=\"cell\"\n",
        "                        style=\"border: 1px solid #eee;\"\n",
        "                        allowfullscreen></iframe>\n",
        "                </div>\n",
        "            "
       ],
       "metadata": {},
       "output_type": "display_data",
       "text": [
        "<IPython.core.display.HTML at 0x7fbb5163be10>"
       ]
      }
     ],
     "prompt_number": 7
    },
    {
     "cell_type": "code",
     "collapsed": false,
     "input": [
      "answer = nengo.Ensemble(N*D_out, dimensions=D_out, neuron_type=nengo.Izhikevich(\n",
      "                           tau_recovery=0.02,\n",
      "                           coupling=0.2,\n",
      "                           reset_voltage=-65,\n",
      "                           reset_recovery=8))"
     ],
     "language": "python",
     "metadata": {},
     "outputs": [
      {
       "ename": "NameError",
       "evalue": "name 'nengo' is not defined",
       "output_type": "pyerr",
       "traceback": [
        "\u001b[1;31m---------------------------------------------------------------------------\u001b[0m\n\u001b[1;31mNameError\u001b[0m                                 Traceback (most recent call last)",
        "\u001b[1;32m<ipython-input-1-ed4ec3cdc596>\u001b[0m in \u001b[0;36m<module>\u001b[1;34m()\u001b[0m\n\u001b[1;32m----> 1\u001b[1;33m answer = nengo.Ensemble(N*D_out, dimensions=D_out, neuron_type=nengo.Izhikevich(\n\u001b[0m\u001b[0;32m      2\u001b[0m                            \u001b[0mtau_recovery\u001b[0m\u001b[1;33m=\u001b[0m\u001b[1;36m0.02\u001b[0m\u001b[1;33m,\u001b[0m\u001b[1;33m\u001b[0m\u001b[0m\n\u001b[0;32m      3\u001b[0m                            \u001b[0mcoupling\u001b[0m\u001b[1;33m=\u001b[0m\u001b[1;36m0.2\u001b[0m\u001b[1;33m,\u001b[0m\u001b[1;33m\u001b[0m\u001b[0m\n\u001b[0;32m      4\u001b[0m                            \u001b[0mreset_voltage\u001b[0m\u001b[1;33m=\u001b[0m\u001b[1;33m-\u001b[0m\u001b[1;36m65\u001b[0m\u001b[1;33m,\u001b[0m\u001b[1;33m\u001b[0m\u001b[0m\n\u001b[0;32m      5\u001b[0m                            reset_recovery=8))\n",
        "\u001b[1;31mNameError\u001b[0m: name 'nengo' is not defined"
       ]
      }
     ],
     "prompt_number": 1
    },
    {
     "cell_type": "code",
     "collapsed": false,
     "input": [
      "%pylab inline\n",
      "import nengo\n",
      "import numpy as np\n",
      "\n",
      "N = 10 #number of neurons\n",
      "D_inp = 2\n",
      "D_out = 1\n",
      "model = nengo.Network()\n",
      "\n",
      "weights = np.random.randn(D_inp,D_out).transpose()    \n",
      "\n",
      "with model: \n",
      "        \n",
      "    def stim(t):\n",
      "        if t<5:\n",
      "            return [0,0]\n",
      "        else:\n",
      "            return [1,1]\n",
      "        \n",
      "    def stim_ans(t):  \n",
      "        if t<5:\n",
      "            return [0]\n",
      "        else:\n",
      "            return [1]\n",
      "      \n",
      "    stim = nengo.Node(output=stim, size_out=D_inp)\n",
      "    stim_ans = nengo.Node(output=stim_ans, size_out=D_out)\n",
      "    \n",
      "    input = nengo.Ensemble(N*D_inp, dimensions=D_inp) \n",
      "    answer = nengo.Ensemble(N*D_out, dimensions=D_out)\n",
      "    error_1 = nengo.Ensemble(N*D_out, dimensions=D_out)  \n",
      "    correct_answer = nengo.Ensemble(N*D_out, dimensions=D_out) \n",
      "    \n",
      "    nengo.Connection(stim, input) \n",
      "    nengo.Connection(stim_ans, correct_answer)\n",
      "    \n",
      "    nengo.Connection(correct_answer, error_1, transform=-1)\n",
      "    nengo.Connection(answer, error_1)\n",
      "    \n",
      "    conn_1 = nengo.Connection(input, answer, transform=weights, solver=nengo.solvers.LstsqL2(weights=True)) \n",
      "    print conn_1.size_out\n",
      "\n",
      "    conn_1.learning_rule_type = {'my_pes': nengo.PES(learning_rate=1e-6)} \n",
      "    print conn_1.learning_rule['my_pes'].size_out\n",
      "    \n",
      "    #error_conn1 = nengo.Connection(error_1, conn_1.learning_rule['my_pes'], transform=[[1],[1]])\n",
      "    error_conn1 = nengo.Connection(error_1, conn_1.learning_rule['my_pes'], function=lambda x: [x,x])\n",
      "    print \"test:\", conn_1.learning_rule['my_pes'].size_out\n",
      "        \n",
      "sim = nengo.Simulator(model)\n",
      "sim.run(10)\n",
      "t = sim.trange()"
     ],
     "language": "python",
     "metadata": {},
     "outputs": [
      {
       "output_type": "stream",
       "stream": "stdout",
       "text": [
        "Populating the interactive namespace from numpy and matplotlib\n",
        "1\n"
       ]
      },
      {
       "ename": "TypeError",
       "evalue": "__init__() takes at least 2 arguments (2 given)",
       "output_type": "pyerr",
       "traceback": [
        "\u001b[1;31m---------------------------------------------------------------------------\u001b[0m\n\u001b[1;31mTypeError\u001b[0m                                 Traceback (most recent call last)",
        "\u001b[1;32m<ipython-input-3-449451b2f0e7>\u001b[0m in \u001b[0;36m<module>\u001b[1;34m()\u001b[0m\n\u001b[0;32m     41\u001b[0m     \u001b[1;32mprint\u001b[0m \u001b[0mconn_1\u001b[0m\u001b[1;33m.\u001b[0m\u001b[0msize_out\u001b[0m\u001b[1;33m\u001b[0m\u001b[0m\n\u001b[0;32m     42\u001b[0m \u001b[1;33m\u001b[0m\u001b[0m\n\u001b[1;32m---> 43\u001b[1;33m     \u001b[0mconn_1\u001b[0m\u001b[1;33m.\u001b[0m\u001b[0mlearning_rule_type\u001b[0m \u001b[1;33m=\u001b[0m \u001b[1;33m{\u001b[0m\u001b[1;34m'my_pes'\u001b[0m\u001b[1;33m:\u001b[0m \u001b[0mnengo\u001b[0m\u001b[1;33m.\u001b[0m\u001b[0mPES\u001b[0m\u001b[1;33m(\u001b[0m\u001b[0mlearning_rate\u001b[0m\u001b[1;33m=\u001b[0m\u001b[1;36m1e-6\u001b[0m\u001b[1;33m)\u001b[0m\u001b[1;33m}\u001b[0m\u001b[1;33m\u001b[0m\u001b[0m\n\u001b[0m\u001b[0;32m     44\u001b[0m     \u001b[1;32mprint\u001b[0m \u001b[0mconn_1\u001b[0m\u001b[1;33m.\u001b[0m\u001b[0mlearning_rule\u001b[0m\u001b[1;33m[\u001b[0m\u001b[1;34m'my_pes'\u001b[0m\u001b[1;33m]\u001b[0m\u001b[1;33m.\u001b[0m\u001b[0msize_out\u001b[0m\u001b[1;33m\u001b[0m\u001b[0m\n\u001b[0;32m     45\u001b[0m \u001b[1;33m\u001b[0m\u001b[0m\n",
        "\u001b[1;31mTypeError\u001b[0m: __init__() takes at least 2 arguments (2 given)"
       ]
      }
     ],
     "prompt_number": 3
    },
    {
     "cell_type": "code",
     "collapsed": false,
     "input": [],
     "language": "python",
     "metadata": {},
     "outputs": []
    }
   ],
   "metadata": {}
  }
 ]
}