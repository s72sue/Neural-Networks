{
 "metadata": {
  "name": "",
  "signature": "sha256:29392455df83f03b6179da1b7c2cdbb4c94663a8b733f020618e8743f39d2836"
 },
 "nbformat": 3,
 "nbformat_minor": 0,
 "worksheets": [
  {
   "cells": [
    {
     "cell_type": "code",
     "collapsed": false,
     "input": [
      "from pylab import rand,plot,show,norm\n",
      "\n",
      "class Perceptron:\n",
      " def __init__(self):\n",
      "    \"\"\" perceptron initialization \"\"\"\n",
      "    self.w = rand(2)*2-1 # weights\n",
      "    self.learningRate = 0.1\n",
      "\n",
      " def response(self,x):\n",
      "    \"\"\" perceptron output \"\"\"\n",
      "    y = x[0]*self.w[0]+x[1]*self.w[1] # dot product between w and x\n",
      "    if y >= 0:\n",
      "        return 1\n",
      "    else:\n",
      "       return -1\n",
      "\n",
      " def updateWeights(self,x,iterError):\n",
      "    \"\"\"\n",
      "    updates the weights status, w at time t+1 is\n",
      "       w(t+1) = w(t) + learningRate*(d-r)*x\n",
      "    where d is desired output and r the perceptron response\n",
      "    iterError is (d-r)\n",
      "    \"\"\"\n",
      "    self.w[0] += self.learningRate*iterError*x[0]\n",
      "    self.w[1] += self.learningRate*iterError*x[1]\n",
      "\n",
      " def train(self,data):\n",
      "    \"\"\" \n",
      "    trains all the vector in data.\n",
      "    Every vector in data must have three elements,\n",
      "    the third element (x[2]) must be the label (desired output)\n",
      "    \"\"\"\n",
      "    learned = False\n",
      "    iteration = 0\n",
      "    while not learned:\n",
      "        globalError = 0.0\n",
      "        for x in data: # for each sample\n",
      "            r = self.response(x)    \n",
      "            if x[2] != r: # if we have a wrong response\n",
      "                 iterError = x[2] - r # desired response - actual response\n",
      "                 self.updateWeights(x,iterError)\n",
      "                 globalError += abs(iterError)\n",
      "        iteration += 1\n",
      "    if globalError == 0.0 or iteration >= 100: # stop criteria\n",
      "        print 'iterations',iteration\n",
      "        learned = True # stop learning\n",
      "    \n",
      "def generateData(n):\n",
      "    \"\"\" \n",
      "    generates a 2D linearly separable dataset with n samples. \n",
      "    The third element of the sample is the label\n",
      "    \"\"\"\n",
      "    xb = (rand(n)*2-1)/2-0.5\n",
      "    yb = (rand(n)*2-1)/2+0.5\n",
      "    xr = (rand(n)*2-1)/2+0.5\n",
      "    yr = (rand(n)*2-1)/2-0.5\n",
      "    inputs = []\n",
      "    for i in range(len(xb)):\n",
      "        inputs.append([xb[i],yb[i],1])\n",
      "        inputs.append([xr[i],yr[i],-1])\n",
      "    return inputs\n",
      "      \n",
      "def main():    \n",
      "    trainset = generateData(3) # train set generation\n",
      "    perceptron = Perceptron()   # perceptron instance\n",
      "    perceptron.train(trainset)  # training\n",
      "    testset = generateData(2)  # test set generation\n",
      "\n",
      "    # Perceptron test\n",
      "    for x in testset:\n",
      "        r = perceptron.response(x)\n",
      "        if r != x[2]: # if the response is not correct\n",
      "            print 'error'\n",
      "        if r == 1:\n",
      "            plot(x[0],x[1],'ob')  \n",
      "        else:\n",
      "            plot(x[0],x[1],'or')\n",
      "\n",
      "    # plot of the separation line.\n",
      "    # The separation line is orthogonal to w\n",
      "    print perceptron.w\n",
      "    n = norm(perceptron.w)\n",
      "    ww = perceptron.w/n\n",
      "    print ww\n",
      "    ww1 = [ww[1],-ww[0]]\n",
      "    ww2 = [-ww[1],ww[0]]\n",
      "    figure()\n",
      "    plot([ww1[0], ww2[0]],[ww1[1], ww2[1]],'--k')\n",
      "    show()   \n",
      "\n",
      "\n",
      "if __name__ == \"__main__\":\n",
      "    main()"
     ],
     "language": "python",
     "metadata": {},
     "outputs": [
      {
       "output_type": "stream",
       "stream": "stdout",
       "text": [
        "Traceback (most recent call last):\n",
        "  File \"/usr/local/lib/python2.7/dist-packages/IPython/core/ultratb.py\", line 776, in structured_traceback\n",
        "    records = _fixed_getinnerframes(etb, context, tb_offset)\n",
        "  File \"/usr/local/lib/python2.7/dist-packages/IPython/core/ultratb.py\", line 230, in wrapped\n",
        "    return f(*args, **kwargs)\n",
        "  File \"/usr/local/lib/python2.7/dist-packages/IPython/core/ultratb.py\", line 259, in _fixed_getinnerframes\n",
        "    records  = fix_frame_records_filenames(inspect.getinnerframes(etb, context))\n",
        "  File \"/usr/lib/python2.7/inspect.py\", line 1044, in getinnerframes\n",
        "    framelist.append((tb.tb_frame,) + getframeinfo(tb, context))\n"
       ]
      },
      {
       "output_type": "stream",
       "stream": "stderr",
       "text": [
        "ERROR: Internal Python error in the inspect module.\n",
        "Below is the traceback from this internal error.\n",
        "\n"
       ]
      },
      {
       "output_type": "stream",
       "stream": "stdout",
       "text": [
        "  File \"/usr/lib/python2.7/inspect.py\", line 1004, in getframeinfo\n",
        "    filename = getsourcefile(frame) or getfile(frame)\n",
        "  File \"/usr/lib/python2.7/inspect.py\", line 454, in getsourcefile\n",
        "    if hasattr(getmodule(object, filename), '__loader__'):\n",
        "  File \"/usr/lib/python2.7/inspect.py\", line 491, in getmodule\n",
        "    if ismodule(module) and hasattr(module, '__file__'):\n",
        "KeyboardInterrupt\n"
       ]
      },
      {
       "output_type": "stream",
       "stream": "stderr",
       "text": [
        "\n",
        "Unfortunately, your original traceback can not be constructed.\n",
        "\n"
       ]
      },
      {
       "ename": "KeyboardInterrupt",
       "evalue": "",
       "output_type": "pyerr",
       "traceback": ""
      }
     ],
     "prompt_number": 1
    },
    {
     "cell_type": "code",
     "collapsed": false,
     "input": [],
     "language": "python",
     "metadata": {},
     "outputs": []
    }
   ],
   "metadata": {}
  }
 ]
}